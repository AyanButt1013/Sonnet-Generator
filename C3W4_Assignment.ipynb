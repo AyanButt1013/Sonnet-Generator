{
  "cells": [
    {
      "cell_type": "markdown",
      "metadata": {
        "id": "bFWbEb6uGbN-"
      },
      "source": [
        "# Week 4: Predicting the next word\n",
        "\n",
        "Welcome to this assignment! During this week you saw how to create a model that will predict the next word in a text sequence, now you will implement such model and train it using a corpus of Shakespeare's sonnets, while also creating some helper functions to pre-process the data.\n",
        "\n",
        "\n",
        "Let's get started!"
      ]
    },
    {
      "cell_type": "markdown",
      "metadata": {
        "id": "Cp4A-ZBwSN11"
      },
      "source": [
        "_**NOTE:** To prevent errors from the autograder, please avoid editing or deleting non-graded cells in this notebook . Please only put your solutions in between the `### START CODE HERE` and `### END CODE HERE` code comments, and also refrain from adding any new cells._"
      ]
    },
    {
      "cell_type": "code",
      "execution_count": 1,
      "metadata": {
        "deletable": false,
        "editable": false,
        "id": "BOwsuGQQY9OL",
        "tags": [
          "graded"
        ]
      },
      "outputs": [],
      "source": [
        "# grader-required-cell\n",
        "\n",
        "import numpy as np\n",
        "import matplotlib.pyplot as plt\n",
        "from tensorflow.keras.models import Sequential\n",
        "from tensorflow.keras.utils import to_categorical\n",
        "from tensorflow.keras.preprocessing.text import Tokenizer\n",
        "from tensorflow.keras.preprocessing.sequence import pad_sequences\n",
        "from tensorflow.keras.layers import Embedding, LSTM, Dense, Bidirectional"
      ]
    },
    {
      "cell_type": "markdown",
      "metadata": {
        "id": "BTxqlHqKHzhr"
      },
      "source": [
        "For this assignment you will be using the [Shakespeare Sonnets Dataset](https://www.opensourceshakespeare.org/views/sonnets/sonnet_view.php?range=viewrange&sonnetrange1=1&sonnetrange2=154), which contains more than 2000 lines of text extracted from Shakespeare's sonnets."
      ]
    },
    {
      "cell_type": "code",
      "execution_count": 2,
      "metadata": {
        "deletable": false,
        "editable": false,
        "id": "WZ4qOUzujMP6",
        "tags": [
          "graded"
        ],
        "colab": {
          "base_uri": "https://localhost:8080/"
        },
        "outputId": "61a47e57-7eb5-468c-ba39-fb7b40603f62"
      },
      "outputs": [
        {
          "output_type": "stream",
          "name": "stdout",
          "text": [
            "/usr/local/lib/python3.10/dist-packages/gdown/cli.py:121: FutureWarning: Option `--id` was deprecated in version 4.3.1 and will be removed in 5.0. You don't need to pass it anymore to use a file ID.\n",
            "  warnings.warn(\n",
            "Downloading...\n",
            "From: https://drive.google.com/uc?id=108jAePKK4R3BVYBbYJZ32JWUwxeMg20K\n",
            "To: /content/sonnets.txt\n",
            "100% 93.6k/93.6k [00:00<00:00, 99.2MB/s]\n"
          ]
        }
      ],
      "source": [
        "# grader-required-cell\n",
        "\n",
        "# sonnets.txt\n",
        "!gdown --id 108jAePKK4R3BVYBbYJZ32JWUwxeMg20K"
      ]
    },
    {
      "cell_type": "code",
      "execution_count": 3,
      "metadata": {
        "deletable": false,
        "editable": false,
        "id": "Pfd-nYKij5yY",
        "tags": [
          "graded"
        ],
        "colab": {
          "base_uri": "https://localhost:8080/"
        },
        "outputId": "6e1efbd0-1185-4566-a2b1-45b9911f70db"
      },
      "outputs": [
        {
          "output_type": "stream",
          "name": "stdout",
          "text": [
            "There are 2159 lines of sonnets\n",
            "\n",
            "The first 5 lines look like this:\n",
            "\n",
            "from fairest creatures we desire increase,\n",
            "that thereby beauty's rose might never die,\n",
            "but as the riper should by time decease,\n",
            "his tender heir might bear his memory:\n",
            "but thou, contracted to thine own bright eyes,\n"
          ]
        }
      ],
      "source": [
        "# grader-required-cell\n",
        "\n",
        "# Define path for file with sonnets\n",
        "SONNETS_FILE = './sonnets.txt'\n",
        "\n",
        "# Read the data\n",
        "with open('./sonnets.txt') as f:\n",
        "    data = f.read()\n",
        "\n",
        "# Convert to lower case and save as a list\n",
        "corpus = data.lower().split(\"\\n\")\n",
        "\n",
        "print(f\"There are {len(corpus)} lines of sonnets\\n\")\n",
        "print(f\"The first 5 lines look like this:\\n\")\n",
        "for i in range(5):\n",
        "  print(corpus[i])"
      ]
    },
    {
      "cell_type": "markdown",
      "metadata": {
        "id": "imB15zrSNhA1"
      },
      "source": [
        "## Tokenizing the text\n",
        "\n",
        "Now fit the Tokenizer to the corpus and save the total number of words."
      ]
    },
    {
      "cell_type": "code",
      "execution_count": 4,
      "metadata": {
        "deletable": false,
        "editable": false,
        "id": "AAhM_qAZk0o5",
        "tags": [
          "graded"
        ]
      },
      "outputs": [],
      "source": [
        "# grader-required-cell\n",
        "\n",
        "tokenizer = Tokenizer()\n",
        "tokenizer.fit_on_texts(corpus)\n",
        "total_words = len(tokenizer.word_index) + 1"
      ]
    },
    {
      "cell_type": "markdown",
      "metadata": {
        "id": "77-0sA46OETa"
      },
      "source": [
        "When converting the text into sequences you can use the `texts_to_sequences` method as you have done throughout this course.\n",
        "\n",
        "In the next graded function you will need to process this corpus one line at a time. Given this, it is important to keep in mind that the way you are feeding the data unto this method affects the result. Check the following example to make this clearer.\n",
        "\n",
        "The first example of the corpus is a string and looks like this:"
      ]
    },
    {
      "cell_type": "code",
      "execution_count": 5,
      "metadata": {
        "deletable": false,
        "editable": false,
        "id": "tqhPxdeXlfjh",
        "tags": [
          "graded"
        ],
        "colab": {
          "base_uri": "https://localhost:8080/",
          "height": 36
        },
        "outputId": "80a11c44-f194-46a8-83ba-4abe649236e9"
      },
      "outputs": [
        {
          "output_type": "execute_result",
          "data": {
            "text/plain": [
              "'from fairest creatures we desire increase,'"
            ],
            "application/vnd.google.colaboratory.intrinsic+json": {
              "type": "string"
            }
          },
          "metadata": {},
          "execution_count": 5
        }
      ],
      "source": [
        "# grader-required-cell\n",
        "\n",
        "corpus[0]"
      ]
    },
    {
      "cell_type": "markdown",
      "metadata": {
        "id": "XFMP4z11O3os"
      },
      "source": [
        "If you pass this text directly into the `texts_to_sequences` method you will get an unexpected result:"
      ]
    },
    {
      "cell_type": "code",
      "execution_count": 6,
      "metadata": {
        "deletable": false,
        "editable": false,
        "id": "EMSEhmbzNZCE",
        "tags": [
          "graded"
        ],
        "colab": {
          "base_uri": "https://localhost:8080/"
        },
        "outputId": "54b1ac86-de76-4fd3-9aab-fe351f718fdd"
      },
      "outputs": [
        {
          "output_type": "execute_result",
          "data": {
            "text/plain": [
              "[[],\n",
              " [],\n",
              " [58],\n",
              " [],\n",
              " [],\n",
              " [],\n",
              " [17],\n",
              " [6],\n",
              " [],\n",
              " [],\n",
              " [],\n",
              " [],\n",
              " [],\n",
              " [],\n",
              " [],\n",
              " [],\n",
              " [17],\n",
              " [],\n",
              " [],\n",
              " [],\n",
              " [],\n",
              " [],\n",
              " [],\n",
              " [],\n",
              " [],\n",
              " [],\n",
              " [],\n",
              " [],\n",
              " [],\n",
              " [6],\n",
              " [],\n",
              " [],\n",
              " [],\n",
              " [6],\n",
              " [],\n",
              " [],\n",
              " [],\n",
              " [],\n",
              " [17],\n",
              " [],\n",
              " [],\n",
              " []]"
            ]
          },
          "metadata": {},
          "execution_count": 6
        }
      ],
      "source": [
        "# grader-required-cell\n",
        "\n",
        "tokenizer.texts_to_sequences(corpus[0])"
      ]
    },
    {
      "cell_type": "markdown",
      "metadata": {
        "id": "pPZmZtpEPEeI"
      },
      "source": [
        "This happened because `texts_to_sequences` expects a list and you are providing a string. However a string is still and `iterable` in Python so you will get the word index of every character in the string.\n",
        "\n",
        "Instead you need to place the example whithin a list before passing it to the method:"
      ]
    },
    {
      "cell_type": "code",
      "execution_count": 7,
      "metadata": {
        "deletable": false,
        "editable": false,
        "id": "Qmgo-vXhk4nd",
        "tags": [
          "graded"
        ],
        "colab": {
          "base_uri": "https://localhost:8080/"
        },
        "outputId": "946ce736-8c29-4506-950c-ab32196e55a0"
      },
      "outputs": [
        {
          "output_type": "execute_result",
          "data": {
            "text/plain": [
              "[[34, 417, 877, 166, 213, 517]]"
            ]
          },
          "metadata": {},
          "execution_count": 7
        }
      ],
      "source": [
        "# grader-required-cell\n",
        "\n",
        "tokenizer.texts_to_sequences([corpus[0]])"
      ]
    },
    {
      "cell_type": "markdown",
      "metadata": {
        "id": "0DU7wK-eQ5dc"
      },
      "source": [
        "Notice that you received the sequence wrapped inside a list so in order to get only the desired sequence you need to explicitly get the first item in the list like this:"
      ]
    },
    {
      "cell_type": "code",
      "execution_count": 8,
      "metadata": {
        "deletable": false,
        "editable": false,
        "id": "kpTy8WmIQ57P",
        "tags": [
          "graded"
        ],
        "colab": {
          "base_uri": "https://localhost:8080/"
        },
        "outputId": "3d0dca21-4cd7-4572-e664-f665da16b896"
      },
      "outputs": [
        {
          "output_type": "execute_result",
          "data": {
            "text/plain": [
              "[34, 417, 877, 166, 213, 517]"
            ]
          },
          "metadata": {},
          "execution_count": 8
        }
      ],
      "source": [
        "# grader-required-cell\n",
        "\n",
        "tokenizer.texts_to_sequences([corpus[0]])[0]"
      ]
    },
    {
      "cell_type": "markdown",
      "metadata": {
        "id": "-oqy9KjXRJ9A"
      },
      "source": [
        "## Generating n_grams\n",
        "\n",
        "Now complete the `n_gram_seqs` function below. This function receives the fitted tokenizer and the corpus (which is a list of strings) and should return a list containing the `n_gram` sequences for each line in the corpus:"
      ]
    },
    {
      "cell_type": "code",
      "execution_count": 26,
      "metadata": {
        "deletable": false,
        "id": "iy4baJMDl6kj",
        "tags": [
          "graded"
        ]
      },
      "outputs": [],
      "source": [
        "# grader-required-cell\n",
        "\n",
        "# GRADED FUNCTION: n_gram_seqs\n",
        "def n_gram_seqs(corpus, tokenizer):\n",
        "    \"\"\"\n",
        "    Generates a list of n-gram sequences\n",
        "\n",
        "    Args:\n",
        "        corpus (list of string): lines of texts to generate n-grams for\n",
        "        tokenizer (object): an instance of the Tokenizer class containing the word-index dictionary\n",
        "\n",
        "    Returns:\n",
        "        input_sequences (list of int): the n-gram sequences for each line in the corpus\n",
        "    \"\"\"\n",
        "    input_sequences = []\n",
        "\n",
        "    ### START CODE HERE\n",
        "\n",
        "    input_sequences = []\n",
        "    for line in corpus:\n",
        "\t    token_list = tokenizer.texts_to_sequences([line])[0]\n",
        "\t    for i in range(1, len(token_list)):\n",
        "\t\t    n_gram_sequence = token_list[:i+1]\n",
        "\t\t    input_sequences.append(n_gram_sequence)\n",
        "\n",
        "\n",
        "\n",
        "\n",
        "    ### END CODE HERE\n",
        "\n",
        "    return input_sequences"
      ]
    },
    {
      "cell_type": "code",
      "execution_count": 27,
      "metadata": {
        "deletable": false,
        "editable": false,
        "id": "DlKqW2pfM7G3",
        "tags": [
          "graded"
        ],
        "colab": {
          "base_uri": "https://localhost:8080/"
        },
        "outputId": "0e62dbd0-9737-482b-b572-4b7bbb500301"
      },
      "outputs": [
        {
          "output_type": "stream",
          "name": "stdout",
          "text": [
            "n_gram sequences for first example look like this:\n",
            "\n"
          ]
        },
        {
          "output_type": "execute_result",
          "data": {
            "text/plain": [
              "[[34, 417],\n",
              " [34, 417, 877],\n",
              " [34, 417, 877, 166],\n",
              " [34, 417, 877, 166, 213],\n",
              " [34, 417, 877, 166, 213, 517]]"
            ]
          },
          "metadata": {},
          "execution_count": 27
        }
      ],
      "source": [
        "# grader-required-cell\n",
        "\n",
        "# Test your function with one example\n",
        "first_example_sequence = n_gram_seqs([corpus[0]], tokenizer)\n",
        "\n",
        "print(\"n_gram sequences for first example look like this:\\n\")\n",
        "first_example_sequence"
      ]
    },
    {
      "cell_type": "markdown",
      "metadata": {
        "id": "0HL8Ug6UU0Jt"
      },
      "source": [
        "**Expected Output:**\n",
        "\n",
        "```\n",
        "n_gram sequences for first example look like this:\n",
        "\n",
        "[[34, 417],\n",
        " [34, 417, 877],\n",
        " [34, 417, 877, 166],\n",
        " [34, 417, 877, 166, 213],\n",
        " [34, 417, 877, 166, 213, 517]]\n",
        "```"
      ]
    },
    {
      "cell_type": "code",
      "execution_count": 28,
      "metadata": {
        "deletable": false,
        "editable": false,
        "id": "wtPpCcBjNc4c",
        "tags": [
          "graded"
        ],
        "colab": {
          "base_uri": "https://localhost:8080/"
        },
        "outputId": "c9bfd1a1-c069-4440-d716-f51091ae22a6"
      },
      "outputs": [
        {
          "output_type": "stream",
          "name": "stdout",
          "text": [
            "n_gram sequences for next 3 examples look like this:\n",
            "\n"
          ]
        },
        {
          "output_type": "execute_result",
          "data": {
            "text/plain": [
              "[[8, 878],\n",
              " [8, 878, 134],\n",
              " [8, 878, 134, 351],\n",
              " [8, 878, 134, 351, 102],\n",
              " [8, 878, 134, 351, 102, 156],\n",
              " [8, 878, 134, 351, 102, 156, 199],\n",
              " [16, 22],\n",
              " [16, 22, 2],\n",
              " [16, 22, 2, 879],\n",
              " [16, 22, 2, 879, 61],\n",
              " [16, 22, 2, 879, 61, 30],\n",
              " [16, 22, 2, 879, 61, 30, 48],\n",
              " [16, 22, 2, 879, 61, 30, 48, 634],\n",
              " [25, 311],\n",
              " [25, 311, 635],\n",
              " [25, 311, 635, 102],\n",
              " [25, 311, 635, 102, 200],\n",
              " [25, 311, 635, 102, 200, 25],\n",
              " [25, 311, 635, 102, 200, 25, 278]]"
            ]
          },
          "metadata": {},
          "execution_count": 28
        }
      ],
      "source": [
        "# grader-required-cell\n",
        "\n",
        "# Test your function with a bigger corpus\n",
        "next_3_examples_sequence = n_gram_seqs(corpus[1:4], tokenizer)\n",
        "\n",
        "print(\"n_gram sequences for next 3 examples look like this:\\n\")\n",
        "next_3_examples_sequence"
      ]
    },
    {
      "cell_type": "markdown",
      "metadata": {
        "id": "EIzecMczU9UB"
      },
      "source": [
        "**Expected Output:**\n",
        "\n",
        "```\n",
        "n_gram sequences for next 3 examples look like this:\n",
        "\n",
        "[[8, 878],\n",
        " [8, 878, 134],\n",
        " [8, 878, 134, 351],\n",
        " [8, 878, 134, 351, 102],\n",
        " [8, 878, 134, 351, 102, 156],\n",
        " [8, 878, 134, 351, 102, 156, 199],\n",
        " [16, 22],\n",
        " [16, 22, 2],\n",
        " [16, 22, 2, 879],\n",
        " [16, 22, 2, 879, 61],\n",
        " [16, 22, 2, 879, 61, 30],\n",
        " [16, 22, 2, 879, 61, 30, 48],\n",
        " [16, 22, 2, 879, 61, 30, 48, 634],\n",
        " [25, 311],\n",
        " [25, 311, 635],\n",
        " [25, 311, 635, 102],\n",
        " [25, 311, 635, 102, 200],\n",
        " [25, 311, 635, 102, 200, 25],\n",
        " [25, 311, 635, 102, 200, 25, 278]]\n",
        "```"
      ]
    },
    {
      "cell_type": "markdown",
      "metadata": {
        "id": "dx3V_RjFWQSu"
      },
      "source": [
        "Apply the `n_gram_seqs` transformation to the whole corpus and save the maximum sequence length to use it later:"
      ]
    },
    {
      "cell_type": "code",
      "execution_count": 29,
      "metadata": {
        "deletable": false,
        "editable": false,
        "id": "laMwiRUpmuSd",
        "tags": [
          "graded"
        ],
        "colab": {
          "base_uri": "https://localhost:8080/"
        },
        "outputId": "44e6136d-3c6a-41a1-d2b5-22e58429c2f9"
      },
      "outputs": [
        {
          "output_type": "stream",
          "name": "stdout",
          "text": [
            "n_grams of input_sequences have length: 15462\n",
            "maximum length of sequences is: 11\n"
          ]
        }
      ],
      "source": [
        "# grader-required-cell\n",
        "\n",
        "# Apply the n_gram_seqs transformation to the whole corpus\n",
        "input_sequences = n_gram_seqs(corpus, tokenizer)\n",
        "\n",
        "# Save max length\n",
        "max_sequence_len = max([len(x) for x in input_sequences])\n",
        "\n",
        "print(f\"n_grams of input_sequences have length: {len(input_sequences)}\")\n",
        "print(f\"maximum length of sequences is: {max_sequence_len}\")"
      ]
    },
    {
      "cell_type": "markdown",
      "metadata": {
        "id": "2OciMdmEdE9L"
      },
      "source": [
        "**Expected Output:**\n",
        "\n",
        "```\n",
        "n_grams of input_sequences have length: 15462\n",
        "maximum length of sequences is: 11\n",
        "```"
      ]
    },
    {
      "cell_type": "markdown",
      "metadata": {
        "id": "zHY7HroqWq12"
      },
      "source": [
        "## Add padding to the sequences\n",
        "\n",
        "Now code the `pad_seqs` function which will pad any given sequences to the desired maximum length. Notice that this function receives a list of sequences and should return a numpy array with the padded sequences:"
      ]
    },
    {
      "cell_type": "code",
      "execution_count": 30,
      "metadata": {
        "cellView": "code",
        "deletable": false,
        "id": "WW1-qAZaWOhC",
        "tags": [
          "graded"
        ]
      },
      "outputs": [],
      "source": [
        "# grader-required-cell\n",
        "\n",
        "# GRADED FUNCTION: pad_seqs\n",
        "def pad_seqs(input_sequences, maxlen):\n",
        "    \"\"\"\n",
        "    Pads tokenized sequences to the same length\n",
        "\n",
        "    Args:\n",
        "        input_sequences (list of int): tokenized sequences to pad\n",
        "        maxlen (int): maximum length of the token sequences\n",
        "\n",
        "    Returns:\n",
        "        padded_sequences (array of int): tokenized sequences padded to the same length\n",
        "    \"\"\"\n",
        "    ### START CODE HERE\n",
        "    padded_sequences = pad_sequences (input_sequences, maxlen = maxlen)\n",
        "\n",
        "    return padded_sequences\n",
        "    ### END CODE HERE"
      ]
    },
    {
      "cell_type": "code",
      "execution_count": 31,
      "metadata": {
        "deletable": false,
        "editable": false,
        "id": "IqVQ0pb3YHLr",
        "tags": [
          "graded"
        ],
        "colab": {
          "base_uri": "https://localhost:8080/"
        },
        "outputId": "9c605887-b176-4a54-c6d7-4d469566f545"
      },
      "outputs": [
        {
          "output_type": "execute_result",
          "data": {
            "text/plain": [
              "array([[  0,   0,   0,   0,  34, 417],\n",
              "       [  0,   0,   0,  34, 417, 877],\n",
              "       [  0,   0,  34, 417, 877, 166],\n",
              "       [  0,  34, 417, 877, 166, 213],\n",
              "       [ 34, 417, 877, 166, 213, 517]], dtype=int32)"
            ]
          },
          "metadata": {},
          "execution_count": 31
        }
      ],
      "source": [
        "# grader-required-cell\n",
        "\n",
        "# Test your function with the n_grams_seq of the first example\n",
        "first_padded_seq = pad_seqs(first_example_sequence, max([len(x) for x in first_example_sequence]))\n",
        "first_padded_seq"
      ]
    },
    {
      "cell_type": "markdown",
      "metadata": {
        "id": "Re_avDznXRnU"
      },
      "source": [
        "**Expected Output:**\n",
        "\n",
        "```\n",
        "array([[  0,   0,   0,   0,  34, 417],\n",
        "       [  0,   0,   0,  34, 417, 877],\n",
        "       [  0,   0,  34, 417, 877, 166],\n",
        "       [  0,  34, 417, 877, 166, 213],\n",
        "       [ 34, 417, 877, 166, 213, 517]], dtype=int32)\n",
        "```"
      ]
    },
    {
      "cell_type": "code",
      "execution_count": 32,
      "metadata": {
        "deletable": false,
        "editable": false,
        "id": "j56_UCOBYzZt",
        "tags": [
          "graded"
        ],
        "colab": {
          "base_uri": "https://localhost:8080/"
        },
        "outputId": "dac5d6c9-7aaa-4f74-9849-b40ccd571de8"
      },
      "outputs": [
        {
          "output_type": "execute_result",
          "data": {
            "text/plain": [
              "array([[  0,   0,   0,   0,   0,   0,   8, 878],\n",
              "       [  0,   0,   0,   0,   0,   8, 878, 134],\n",
              "       [  0,   0,   0,   0,   8, 878, 134, 351],\n",
              "       [  0,   0,   0,   8, 878, 134, 351, 102],\n",
              "       [  0,   0,   8, 878, 134, 351, 102, 156],\n",
              "       [  0,   8, 878, 134, 351, 102, 156, 199],\n",
              "       [  0,   0,   0,   0,   0,   0,  16,  22],\n",
              "       [  0,   0,   0,   0,   0,  16,  22,   2],\n",
              "       [  0,   0,   0,   0,  16,  22,   2, 879],\n",
              "       [  0,   0,   0,  16,  22,   2, 879,  61],\n",
              "       [  0,   0,  16,  22,   2, 879,  61,  30],\n",
              "       [  0,  16,  22,   2, 879,  61,  30,  48],\n",
              "       [ 16,  22,   2, 879,  61,  30,  48, 634],\n",
              "       [  0,   0,   0,   0,   0,   0,  25, 311],\n",
              "       [  0,   0,   0,   0,   0,  25, 311, 635],\n",
              "       [  0,   0,   0,   0,  25, 311, 635, 102],\n",
              "       [  0,   0,   0,  25, 311, 635, 102, 200],\n",
              "       [  0,   0,  25, 311, 635, 102, 200,  25],\n",
              "       [  0,  25, 311, 635, 102, 200,  25, 278]], dtype=int32)"
            ]
          },
          "metadata": {},
          "execution_count": 32
        }
      ],
      "source": [
        "# grader-required-cell\n",
        "\n",
        "# Test your function with the n_grams_seq of the next 3 examples\n",
        "next_3_padded_seq = pad_seqs(next_3_examples_sequence, max([len(s) for s in next_3_examples_sequence]))\n",
        "next_3_padded_seq"
      ]
    },
    {
      "cell_type": "markdown",
      "metadata": {
        "id": "3rmcDluOXcIU"
      },
      "source": [
        "**Expected Output:**\n",
        "\n",
        "```\n",
        "array([[  0,   0,   0,   0,   0,   0,   8, 878],\n",
        "       [  0,   0,   0,   0,   0,   8, 878, 134],\n",
        "       [  0,   0,   0,   0,   8, 878, 134, 351],\n",
        "       [  0,   0,   0,   8, 878, 134, 351, 102],\n",
        "       [  0,   0,   8, 878, 134, 351, 102, 156],\n",
        "       [  0,   8, 878, 134, 351, 102, 156, 199],\n",
        "       [  0,   0,   0,   0,   0,   0,  16,  22],\n",
        "       [  0,   0,   0,   0,   0,  16,  22,   2],\n",
        "       [  0,   0,   0,   0,  16,  22,   2, 879],\n",
        "       [  0,   0,   0,  16,  22,   2, 879,  61],\n",
        "       [  0,   0,  16,  22,   2, 879,  61,  30],\n",
        "       [  0,  16,  22,   2, 879,  61,  30,  48],\n",
        "       [ 16,  22,   2, 879,  61,  30,  48, 634],\n",
        "       [  0,   0,   0,   0,   0,   0,  25, 311],\n",
        "       [  0,   0,   0,   0,   0,  25, 311, 635],\n",
        "       [  0,   0,   0,   0,  25, 311, 635, 102],\n",
        "       [  0,   0,   0,  25, 311, 635, 102, 200],\n",
        "       [  0,   0,  25, 311, 635, 102, 200,  25],\n",
        "       [  0,  25, 311, 635, 102, 200,  25, 278]], dtype=int32)\n",
        "```"
      ]
    },
    {
      "cell_type": "code",
      "execution_count": 33,
      "metadata": {
        "deletable": false,
        "editable": false,
        "id": "rgK-Q_micEYA",
        "tags": [
          "graded"
        ],
        "colab": {
          "base_uri": "https://localhost:8080/"
        },
        "outputId": "5696fd51-1db9-4ba7-bf40-7bde42ac4206"
      },
      "outputs": [
        {
          "output_type": "stream",
          "name": "stdout",
          "text": [
            "padded corpus has shape: (15462, 11)\n"
          ]
        }
      ],
      "source": [
        "# grader-required-cell\n",
        "\n",
        "# Pad the whole corpus\n",
        "input_sequences = pad_seqs(input_sequences, max_sequence_len)\n",
        "\n",
        "print(f\"padded corpus has shape: {input_sequences.shape}\")"
      ]
    },
    {
      "cell_type": "markdown",
      "metadata": {
        "id": "59RD1YYNc7CW"
      },
      "source": [
        "**Expected Output:**\n",
        "\n",
        "```\n",
        "padded corpus has shape: (15462, 11)\n",
        "```"
      ]
    },
    {
      "cell_type": "markdown",
      "metadata": {
        "id": "ZbOidyPrXxf7"
      },
      "source": [
        "## Split the data into features and labels\n",
        "\n",
        "Before feeding the data into the neural network you should split it into features and labels. In this case the features will be the padded n_gram sequences with the last word removed from them and the labels will be the removed word.\n",
        "\n",
        "Complete the `features_and_labels` function below. This function expects the padded n_gram sequences as input and should return a tuple containing the features and the one hot encoded labels.\n",
        "\n",
        "Notice that the function also receives the total of words in the corpus, this parameter will be very important when one hot enconding the labels since every word in the corpus will be a label at least once. If you need a refresh of how the `to_categorical` function works take a look at the [docs](https://www.tensorflow.org/api_docs/python/tf/keras/utils/to_categorical)"
      ]
    },
    {
      "cell_type": "code",
      "execution_count": 40,
      "metadata": {
        "cellView": "code",
        "deletable": false,
        "id": "9WGGbYdnZdmJ",
        "tags": [
          "graded"
        ]
      },
      "outputs": [],
      "source": [
        "# grader-required-cell\n",
        "\n",
        "# GRADED FUNCTION: features_and_labels\n",
        "def features_and_labels(input_sequences, total_words):\n",
        "    \"\"\"\n",
        "    Generates features and labels from n-grams\n",
        "\n",
        "    Args:\n",
        "        input_sequences (list of int): sequences to split features and labels from\n",
        "        total_words (int): vocabulary size\n",
        "\n",
        "    Returns:\n",
        "        features, one_hot_labels (array of int, array of int): arrays of features and one-hot encoded labels\n",
        "    \"\"\"\n",
        "    ### START CODE HERE\n",
        "    features = input_sequences[:,:-1]\n",
        "    labels = input_sequences[:,-1]\n",
        "    one_hot_labels = to_categorical(labels, num_classes=total_words)\n",
        "    ### END CODE HERE\n",
        "\n",
        "    return features, one_hot_labels"
      ]
    },
    {
      "cell_type": "code",
      "execution_count": 41,
      "metadata": {
        "deletable": false,
        "editable": false,
        "id": "23DolaBRaIAZ",
        "tags": [
          "graded"
        ],
        "colab": {
          "base_uri": "https://localhost:8080/"
        },
        "outputId": "8cc44ac0-38f7-4e19-c00e-c5c038f66ef2"
      },
      "outputs": [
        {
          "output_type": "stream",
          "name": "stdout",
          "text": [
            "labels have shape: (5, 3211)\n",
            "\n",
            "features look like this:\n",
            "\n"
          ]
        },
        {
          "output_type": "execute_result",
          "data": {
            "text/plain": [
              "array([[  0,   0,   0,   0,  34],\n",
              "       [  0,   0,   0,  34, 417],\n",
              "       [  0,   0,  34, 417, 877],\n",
              "       [  0,  34, 417, 877, 166],\n",
              "       [ 34, 417, 877, 166, 213]], dtype=int32)"
            ]
          },
          "metadata": {},
          "execution_count": 41
        }
      ],
      "source": [
        "# grader-required-cell\n",
        "\n",
        "# Test your function with the padded n_grams_seq of the first example\n",
        "first_features, first_labels = features_and_labels(first_padded_seq, total_words)\n",
        "\n",
        "print(f\"labels have shape: {first_labels.shape}\")\n",
        "print(\"\\nfeatures look like this:\\n\")\n",
        "first_features"
      ]
    },
    {
      "cell_type": "markdown",
      "metadata": {
        "id": "7t4yAx2UaQ43"
      },
      "source": [
        "**Expected Output:**\n",
        "\n",
        "```\n",
        "labels have shape: (5, 3211)\n",
        "\n",
        "features look like this:\n",
        "\n",
        "array([[  0,   0,   0,   0,  34],\n",
        "       [  0,   0,   0,  34, 417],\n",
        "       [  0,   0,  34, 417, 877],\n",
        "       [  0,  34, 417, 877, 166],\n",
        "       [ 34, 417, 877, 166, 213]], dtype=int32)\n",
        "```"
      ]
    },
    {
      "cell_type": "code",
      "execution_count": 42,
      "metadata": {
        "deletable": false,
        "editable": false,
        "id": "GRTuLEt3bRKa",
        "tags": [
          "graded"
        ],
        "colab": {
          "base_uri": "https://localhost:8080/"
        },
        "outputId": "5aea6c8c-b10d-485a-d1c4-2bf34bf5fc88"
      },
      "outputs": [
        {
          "output_type": "stream",
          "name": "stdout",
          "text": [
            "features have shape: (15462, 10)\n",
            "labels have shape: (15462, 3211)\n"
          ]
        }
      ],
      "source": [
        "# grader-required-cell\n",
        "\n",
        "# Split the whole corpus\n",
        "features, labels = features_and_labels(input_sequences, total_words)\n",
        "\n",
        "print(f\"features have shape: {features.shape}\")\n",
        "print(f\"labels have shape: {labels.shape}\")"
      ]
    },
    {
      "cell_type": "markdown",
      "metadata": {
        "id": "xXSMK_HpdLns"
      },
      "source": [
        "**Expected Output:**\n",
        "\n",
        "```\n",
        "features have shape: (15462, 10)\n",
        "labels have shape: (15462, 3211)\n",
        "```"
      ]
    },
    {
      "cell_type": "markdown",
      "metadata": {
        "id": "ltxaOCE_aU6J"
      },
      "source": [
        "## Create the model\n",
        "\n",
        "Now you should define a model architecture capable of achieving an accuracy of at least 80%.\n",
        "\n",
        "Some hints to help you in this task:\n",
        "\n",
        "- An appropriate `output_dim` for the first layer (Embedding) is 100, this is already provided for you.\n",
        "- A Bidirectional LSTM is helpful for this particular problem.\n",
        "- The last layer should have the same number of units as the total number of words in the corpus and a softmax activation function.\n",
        "- This problem can be solved with only two layers (excluding the Embedding) so try out small architectures first."
      ]
    },
    {
      "cell_type": "code",
      "execution_count": 55,
      "metadata": {
        "cellView": "code",
        "deletable": false,
        "id": "XrE6kpJFfvRY",
        "tags": [
          "graded"
        ]
      },
      "outputs": [],
      "source": [
        "# grader-required-cell\n",
        "\n",
        "# GRADED FUNCTION: create_model\n",
        "from tensorflow.keras import regularizers\n",
        "from tensorflow.keras.layers import Embedding, LSTM, Dense, Dropout, Bidirectional\n",
        "\n",
        "def create_model(total_words, max_sequence_len):\n",
        "    \"\"\"\n",
        "    Creates a text generator model\n",
        "\n",
        "    Args:\n",
        "        total_words (int): size of the vocabulary for the Embedding layer input\n",
        "        max_sequence_len (int): length of the input sequences\n",
        "\n",
        "    Returns:\n",
        "        model (tf.keras Model): the text generator model\n",
        "    \"\"\"\n",
        "    model = Sequential()\n",
        "    ### START CODE HERE\n",
        "    model.add(Embedding(total_words, 100, input_length=max_sequence_len-1))  # Embedding layer\n",
        "    model.add(Bidirectional(LSTM(120, return_sequences=True)))\n",
        "    model.add(Dropout(0.2))\n",
        "    model.add(LSTM(96))\n",
        "    model.add(Dense(total_words/2, activation='relu', kernel_regularizer=regularizers.l2(0.01)))\n",
        "    model.add(Dense(total_words, activation='softmax'))\n",
        "\n",
        "\n",
        "\n",
        "    # Compile the model\n",
        "    model.compile(loss='categorical_crossentropy',\n",
        "                  optimizer='adam',\n",
        "                  metrics=['accuracy'])\n",
        "\n",
        "\n",
        "    ### END CODE HERE\n",
        "\n",
        "    return model"
      ]
    },
    {
      "cell_type": "code",
      "execution_count": 57,
      "metadata": {
        "id": "0IpX_Gu_gISk",
        "tags": [],
        "colab": {
          "base_uri": "https://localhost:8080/"
        },
        "outputId": "c87e653c-050a-44ee-81f0-509ad52b0c5c"
      },
      "outputs": [
        {
          "output_type": "stream",
          "name": "stdout",
          "text": [
            "Epoch 1/150\n",
            "484/484 [==============================] - 18s 22ms/step - loss: 6.9133 - accuracy: 0.0210\n",
            "Epoch 2/150\n",
            "484/484 [==============================] - 5s 10ms/step - loss: 6.5014 - accuracy: 0.0214\n",
            "Epoch 3/150\n",
            "484/484 [==============================] - 5s 10ms/step - loss: 6.4075 - accuracy: 0.0249\n",
            "Epoch 4/150\n",
            "484/484 [==============================] - 5s 10ms/step - loss: 6.2847 - accuracy: 0.0305\n",
            "Epoch 5/150\n",
            "484/484 [==============================] - 4s 9ms/step - loss: 6.1775 - accuracy: 0.0362\n",
            "Epoch 6/150\n",
            "484/484 [==============================] - 5s 10ms/step - loss: 6.0946 - accuracy: 0.0395\n",
            "Epoch 7/150\n",
            "484/484 [==============================] - 5s 10ms/step - loss: 6.0213 - accuracy: 0.0388\n",
            "Epoch 8/150\n",
            "484/484 [==============================] - 4s 9ms/step - loss: 5.9396 - accuracy: 0.0440\n",
            "Epoch 9/150\n",
            "484/484 [==============================] - 5s 11ms/step - loss: 5.8498 - accuracy: 0.0493\n",
            "Epoch 10/150\n",
            "484/484 [==============================] - 4s 9ms/step - loss: 5.7562 - accuracy: 0.0523\n",
            "Epoch 11/150\n",
            "484/484 [==============================] - 5s 9ms/step - loss: 5.6467 - accuracy: 0.0606\n",
            "Epoch 12/150\n",
            "484/484 [==============================] - 5s 11ms/step - loss: 5.5392 - accuracy: 0.0690\n",
            "Epoch 13/150\n",
            "484/484 [==============================] - 4s 9ms/step - loss: 5.4321 - accuracy: 0.0737\n",
            "Epoch 14/150\n",
            "484/484 [==============================] - 5s 10ms/step - loss: 5.3270 - accuracy: 0.0803\n",
            "Epoch 15/150\n",
            "484/484 [==============================] - 4s 9ms/step - loss: 5.2183 - accuracy: 0.0865\n",
            "Epoch 16/150\n",
            "484/484 [==============================] - 4s 9ms/step - loss: 5.1115 - accuracy: 0.0993\n",
            "Epoch 17/150\n",
            "484/484 [==============================] - 5s 10ms/step - loss: 5.0097 - accuracy: 0.1021\n",
            "Epoch 18/150\n",
            "484/484 [==============================] - 4s 9ms/step - loss: 4.9066 - accuracy: 0.1108\n",
            "Epoch 19/150\n",
            "484/484 [==============================] - 5s 11ms/step - loss: 4.7998 - accuracy: 0.1211\n",
            "Epoch 20/150\n",
            "484/484 [==============================] - 5s 11ms/step - loss: 4.7012 - accuracy: 0.1297\n",
            "Epoch 21/150\n",
            "484/484 [==============================] - 5s 11ms/step - loss: 4.6025 - accuracy: 0.1383\n",
            "Epoch 22/150\n",
            "484/484 [==============================] - 5s 10ms/step - loss: 4.4920 - accuracy: 0.1443\n",
            "Epoch 23/150\n",
            "484/484 [==============================] - 4s 9ms/step - loss: 4.3996 - accuracy: 0.1584\n",
            "Epoch 24/150\n",
            "484/484 [==============================] - 4s 9ms/step - loss: 4.2920 - accuracy: 0.1685\n",
            "Epoch 25/150\n",
            "484/484 [==============================] - 5s 10ms/step - loss: 4.1934 - accuracy: 0.1812\n",
            "Epoch 26/150\n",
            "484/484 [==============================] - 4s 9ms/step - loss: 4.0973 - accuracy: 0.1908\n",
            "Epoch 27/150\n",
            "484/484 [==============================] - 4s 9ms/step - loss: 3.9966 - accuracy: 0.2079\n",
            "Epoch 28/150\n",
            "484/484 [==============================] - 5s 10ms/step - loss: 3.8969 - accuracy: 0.2227\n",
            "Epoch 29/150\n",
            "484/484 [==============================] - 4s 9ms/step - loss: 3.8110 - accuracy: 0.2374\n",
            "Epoch 30/150\n",
            "484/484 [==============================] - 5s 10ms/step - loss: 3.7166 - accuracy: 0.2556\n",
            "Epoch 31/150\n",
            "484/484 [==============================] - 4s 9ms/step - loss: 3.6245 - accuracy: 0.2723\n",
            "Epoch 32/150\n",
            "484/484 [==============================] - 4s 9ms/step - loss: 3.5417 - accuracy: 0.2897\n",
            "Epoch 33/150\n",
            "484/484 [==============================] - 5s 10ms/step - loss: 3.4480 - accuracy: 0.3101\n",
            "Epoch 34/150\n",
            "484/484 [==============================] - 4s 9ms/step - loss: 3.3718 - accuracy: 0.3287\n",
            "Epoch 35/150\n",
            "484/484 [==============================] - 4s 9ms/step - loss: 3.2965 - accuracy: 0.3440\n",
            "Epoch 36/150\n",
            "484/484 [==============================] - 5s 10ms/step - loss: 3.2148 - accuracy: 0.3604\n",
            "Epoch 37/150\n",
            "484/484 [==============================] - 4s 9ms/step - loss: 3.1489 - accuracy: 0.3789\n",
            "Epoch 38/150\n",
            "484/484 [==============================] - 5s 10ms/step - loss: 3.0771 - accuracy: 0.3970\n",
            "Epoch 39/150\n",
            "484/484 [==============================] - 4s 9ms/step - loss: 3.0073 - accuracy: 0.4128\n",
            "Epoch 40/150\n",
            "484/484 [==============================] - 4s 9ms/step - loss: 2.9493 - accuracy: 0.4214\n",
            "Epoch 41/150\n",
            "484/484 [==============================] - 5s 10ms/step - loss: 2.8817 - accuracy: 0.4380\n",
            "Epoch 42/150\n",
            "484/484 [==============================] - 5s 10ms/step - loss: 2.8148 - accuracy: 0.4508\n",
            "Epoch 43/150\n",
            "484/484 [==============================] - 4s 9ms/step - loss: 2.7597 - accuracy: 0.4627\n",
            "Epoch 44/150\n",
            "484/484 [==============================] - 5s 10ms/step - loss: 2.6986 - accuracy: 0.4814\n",
            "Epoch 45/150\n",
            "484/484 [==============================] - 4s 9ms/step - loss: 2.6429 - accuracy: 0.4899\n",
            "Epoch 46/150\n",
            "484/484 [==============================] - 5s 10ms/step - loss: 2.5976 - accuracy: 0.5016\n",
            "Epoch 47/150\n",
            "484/484 [==============================] - 4s 9ms/step - loss: 2.5448 - accuracy: 0.5124\n",
            "Epoch 48/150\n",
            "484/484 [==============================] - 4s 9ms/step - loss: 2.4829 - accuracy: 0.5279\n",
            "Epoch 49/150\n",
            "484/484 [==============================] - 5s 10ms/step - loss: 2.4441 - accuracy: 0.5357\n",
            "Epoch 50/150\n",
            "484/484 [==============================] - 4s 9ms/step - loss: 2.3958 - accuracy: 0.5467\n",
            "Epoch 51/150\n",
            "484/484 [==============================] - 5s 9ms/step - loss: 2.3429 - accuracy: 0.5596\n",
            "Epoch 52/150\n",
            "484/484 [==============================] - 5s 10ms/step - loss: 2.3058 - accuracy: 0.5670\n",
            "Epoch 53/150\n",
            "484/484 [==============================] - 5s 11ms/step - loss: 2.2657 - accuracy: 0.5725\n",
            "Epoch 54/150\n",
            "484/484 [==============================] - 5s 10ms/step - loss: 2.2161 - accuracy: 0.5885\n",
            "Epoch 55/150\n",
            "484/484 [==============================] - 4s 9ms/step - loss: 2.1863 - accuracy: 0.5973\n",
            "Epoch 56/150\n",
            "484/484 [==============================] - 4s 9ms/step - loss: 2.1536 - accuracy: 0.6002\n",
            "Epoch 57/150\n",
            "484/484 [==============================] - 6s 12ms/step - loss: 2.1032 - accuracy: 0.6149\n",
            "Epoch 58/150\n",
            "484/484 [==============================] - 4s 9ms/step - loss: 2.0710 - accuracy: 0.6221\n",
            "Epoch 59/150\n",
            "484/484 [==============================] - 5s 10ms/step - loss: 2.0369 - accuracy: 0.6300\n",
            "Epoch 60/150\n",
            "484/484 [==============================] - 4s 9ms/step - loss: 2.0178 - accuracy: 0.6275\n",
            "Epoch 61/150\n",
            "484/484 [==============================] - 4s 9ms/step - loss: 1.9688 - accuracy: 0.6435\n",
            "Epoch 62/150\n",
            "484/484 [==============================] - 5s 10ms/step - loss: 1.9324 - accuracy: 0.6510\n",
            "Epoch 63/150\n",
            "484/484 [==============================] - 4s 9ms/step - loss: 1.9120 - accuracy: 0.6516\n",
            "Epoch 64/150\n",
            "484/484 [==============================] - 4s 9ms/step - loss: 1.8857 - accuracy: 0.6564\n",
            "Epoch 65/150\n",
            "484/484 [==============================] - 5s 11ms/step - loss: 1.8525 - accuracy: 0.6694\n",
            "Epoch 66/150\n",
            "484/484 [==============================] - 4s 9ms/step - loss: 1.8101 - accuracy: 0.6762\n",
            "Epoch 67/150\n",
            "484/484 [==============================] - 5s 9ms/step - loss: 1.7866 - accuracy: 0.6813\n",
            "Epoch 68/150\n",
            "484/484 [==============================] - 5s 9ms/step - loss: 1.7558 - accuracy: 0.6887\n",
            "Epoch 69/150\n",
            "484/484 [==============================] - 4s 9ms/step - loss: 1.7397 - accuracy: 0.6889\n",
            "Epoch 70/150\n",
            "484/484 [==============================] - 5s 10ms/step - loss: 1.7059 - accuracy: 0.6987\n",
            "Epoch 71/150\n",
            "484/484 [==============================] - 4s 9ms/step - loss: 1.6888 - accuracy: 0.6998\n",
            "Epoch 72/150\n",
            "484/484 [==============================] - 4s 9ms/step - loss: 1.6635 - accuracy: 0.7025\n",
            "Epoch 73/150\n",
            "484/484 [==============================] - 5s 10ms/step - loss: 1.6519 - accuracy: 0.7077\n",
            "Epoch 74/150\n",
            "484/484 [==============================] - 4s 9ms/step - loss: 1.6343 - accuracy: 0.7078\n",
            "Epoch 75/150\n",
            "484/484 [==============================] - 5s 9ms/step - loss: 1.6006 - accuracy: 0.7199\n",
            "Epoch 76/150\n",
            "484/484 [==============================] - 5s 10ms/step - loss: 1.5810 - accuracy: 0.7241\n",
            "Epoch 77/150\n",
            "484/484 [==============================] - 4s 9ms/step - loss: 1.5566 - accuracy: 0.7269\n",
            "Epoch 78/150\n",
            "484/484 [==============================] - 5s 10ms/step - loss: 1.5345 - accuracy: 0.7307\n",
            "Epoch 79/150\n",
            "484/484 [==============================] - 4s 9ms/step - loss: 1.5264 - accuracy: 0.7334\n",
            "Epoch 80/150\n",
            "484/484 [==============================] - 4s 9ms/step - loss: 1.5115 - accuracy: 0.7339\n",
            "Epoch 81/150\n",
            "484/484 [==============================] - 5s 10ms/step - loss: 1.4863 - accuracy: 0.7390\n",
            "Epoch 82/150\n",
            "484/484 [==============================] - 4s 9ms/step - loss: 1.4655 - accuracy: 0.7423\n",
            "Epoch 83/150\n",
            "484/484 [==============================] - 4s 9ms/step - loss: 1.4568 - accuracy: 0.7450\n",
            "Epoch 84/150\n",
            "484/484 [==============================] - 6s 12ms/step - loss: 1.4388 - accuracy: 0.7483\n",
            "Epoch 85/150\n",
            "484/484 [==============================] - 4s 9ms/step - loss: 1.4197 - accuracy: 0.7537\n",
            "Epoch 86/150\n",
            "484/484 [==============================] - 5s 10ms/step - loss: 1.3919 - accuracy: 0.7571\n",
            "Epoch 87/150\n",
            "484/484 [==============================] - 4s 9ms/step - loss: 1.3816 - accuracy: 0.7620\n",
            "Epoch 88/150\n",
            "484/484 [==============================] - 4s 9ms/step - loss: 1.3690 - accuracy: 0.7640\n",
            "Epoch 89/150\n",
            "484/484 [==============================] - 5s 10ms/step - loss: 1.3550 - accuracy: 0.7651\n",
            "Epoch 90/150\n",
            "484/484 [==============================] - 4s 9ms/step - loss: 1.3522 - accuracy: 0.7648\n",
            "Epoch 91/150\n",
            "484/484 [==============================] - 5s 10ms/step - loss: 1.3453 - accuracy: 0.7652\n",
            "Epoch 92/150\n",
            "484/484 [==============================] - 5s 10ms/step - loss: 1.3223 - accuracy: 0.7723\n",
            "Epoch 93/150\n",
            "484/484 [==============================] - 4s 9ms/step - loss: 1.3133 - accuracy: 0.7685\n",
            "Epoch 94/150\n",
            "484/484 [==============================] - 6s 12ms/step - loss: 1.2876 - accuracy: 0.7748\n",
            "Epoch 95/150\n",
            "484/484 [==============================] - 4s 9ms/step - loss: 1.2773 - accuracy: 0.7795\n",
            "Epoch 96/150\n",
            "484/484 [==============================] - 4s 9ms/step - loss: 1.2724 - accuracy: 0.7777\n",
            "Epoch 97/150\n",
            "484/484 [==============================] - 5s 10ms/step - loss: 1.2633 - accuracy: 0.7808\n",
            "Epoch 98/150\n",
            "484/484 [==============================] - 4s 9ms/step - loss: 1.2640 - accuracy: 0.7778\n",
            "Epoch 99/150\n",
            "484/484 [==============================] - 5s 9ms/step - loss: 1.2425 - accuracy: 0.7837\n",
            "Epoch 100/150\n",
            "484/484 [==============================] - 5s 10ms/step - loss: 1.2274 - accuracy: 0.7840\n",
            "Epoch 101/150\n",
            "484/484 [==============================] - 4s 9ms/step - loss: 1.2276 - accuracy: 0.7857\n",
            "Epoch 102/150\n",
            "484/484 [==============================] - 5s 10ms/step - loss: 1.2119 - accuracy: 0.7874\n",
            "Epoch 103/150\n",
            "484/484 [==============================] - 4s 9ms/step - loss: 1.1943 - accuracy: 0.7936\n",
            "Epoch 104/150\n",
            "484/484 [==============================] - 4s 9ms/step - loss: 1.1916 - accuracy: 0.7947\n",
            "Epoch 105/150\n",
            "484/484 [==============================] - 5s 10ms/step - loss: 1.1917 - accuracy: 0.7918\n",
            "Epoch 106/150\n",
            "484/484 [==============================] - 4s 9ms/step - loss: 1.1648 - accuracy: 0.7963\n",
            "Epoch 107/150\n",
            "484/484 [==============================] - 5s 9ms/step - loss: 1.1468 - accuracy: 0.8027\n",
            "Epoch 108/150\n",
            "484/484 [==============================] - 5s 10ms/step - loss: 1.1509 - accuracy: 0.7979\n",
            "Epoch 109/150\n",
            "484/484 [==============================] - 4s 9ms/step - loss: 1.1544 - accuracy: 0.7948\n",
            "Epoch 110/150\n",
            "484/484 [==============================] - 5s 10ms/step - loss: 1.1440 - accuracy: 0.7979\n",
            "Epoch 111/150\n",
            "484/484 [==============================] - 4s 9ms/step - loss: 1.1441 - accuracy: 0.7955\n",
            "Epoch 112/150\n",
            "484/484 [==============================] - 4s 9ms/step - loss: 1.1265 - accuracy: 0.8024\n",
            "Epoch 113/150\n",
            "484/484 [==============================] - 5s 10ms/step - loss: 1.1342 - accuracy: 0.7978\n",
            "Epoch 114/150\n",
            "484/484 [==============================] - 4s 9ms/step - loss: 1.0991 - accuracy: 0.8058\n",
            "Epoch 115/150\n",
            "484/484 [==============================] - 5s 11ms/step - loss: 1.0969 - accuracy: 0.8079\n",
            "Epoch 116/150\n",
            "484/484 [==============================] - 5s 10ms/step - loss: 1.0838 - accuracy: 0.8111\n",
            "Epoch 117/150\n",
            "484/484 [==============================] - 4s 9ms/step - loss: 1.0824 - accuracy: 0.8054\n",
            "Epoch 118/150\n",
            "484/484 [==============================] - 5s 10ms/step - loss: 1.0846 - accuracy: 0.8085\n",
            "Epoch 119/150\n",
            "484/484 [==============================] - 4s 9ms/step - loss: 1.0894 - accuracy: 0.8045\n",
            "Epoch 120/150\n",
            "484/484 [==============================] - 4s 9ms/step - loss: 1.0695 - accuracy: 0.8102\n",
            "Epoch 121/150\n",
            "484/484 [==============================] - 5s 10ms/step - loss: 1.0676 - accuracy: 0.8100\n",
            "Epoch 122/150\n",
            "484/484 [==============================] - 4s 9ms/step - loss: 1.0542 - accuracy: 0.8123\n",
            "Epoch 123/150\n",
            "484/484 [==============================] - 5s 9ms/step - loss: 1.0477 - accuracy: 0.8146\n",
            "Epoch 124/150\n",
            "484/484 [==============================] - 5s 10ms/step - loss: 1.0506 - accuracy: 0.8095\n",
            "Epoch 125/150\n",
            "484/484 [==============================] - 4s 9ms/step - loss: 1.0384 - accuracy: 0.8165\n",
            "Epoch 126/150\n",
            "484/484 [==============================] - 5s 10ms/step - loss: 1.0227 - accuracy: 0.8194\n",
            "Epoch 127/150\n",
            "484/484 [==============================] - 4s 9ms/step - loss: 1.0233 - accuracy: 0.8150\n",
            "Epoch 128/150\n",
            "484/484 [==============================] - 4s 9ms/step - loss: 1.0230 - accuracy: 0.8148\n",
            "Epoch 129/150\n",
            "484/484 [==============================] - 5s 10ms/step - loss: 1.0328 - accuracy: 0.8130\n",
            "Epoch 130/150\n",
            "484/484 [==============================] - 5s 10ms/step - loss: 1.0215 - accuracy: 0.8147\n",
            "Epoch 131/150\n",
            "484/484 [==============================] - 5s 10ms/step - loss: 1.0111 - accuracy: 0.8168\n",
            "Epoch 132/150\n",
            "484/484 [==============================] - 5s 9ms/step - loss: 1.0040 - accuracy: 0.8179\n",
            "Epoch 133/150\n",
            "484/484 [==============================] - 4s 9ms/step - loss: 0.9957 - accuracy: 0.8190\n",
            "Epoch 134/150\n",
            "484/484 [==============================] - 5s 10ms/step - loss: 0.9964 - accuracy: 0.8196\n",
            "Epoch 135/150\n",
            "484/484 [==============================] - 4s 9ms/step - loss: 0.9822 - accuracy: 0.8237\n",
            "Epoch 136/150\n",
            "484/484 [==============================] - 4s 9ms/step - loss: 0.9781 - accuracy: 0.8229\n",
            "Epoch 137/150\n",
            "484/484 [==============================] - 5s 10ms/step - loss: 0.9925 - accuracy: 0.8177\n",
            "Epoch 138/150\n",
            "484/484 [==============================] - 4s 9ms/step - loss: 0.9801 - accuracy: 0.8220\n",
            "Epoch 139/150\n",
            "484/484 [==============================] - 4s 9ms/step - loss: 0.9658 - accuracy: 0.8257\n",
            "Epoch 140/150\n",
            "484/484 [==============================] - 5s 10ms/step - loss: 0.9735 - accuracy: 0.8203\n",
            "Epoch 141/150\n",
            "484/484 [==============================] - 4s 9ms/step - loss: 0.9794 - accuracy: 0.8170\n",
            "Epoch 142/150\n",
            "484/484 [==============================] - 5s 10ms/step - loss: 0.9638 - accuracy: 0.8238\n",
            "Epoch 143/150\n",
            "484/484 [==============================] - 4s 9ms/step - loss: 0.9546 - accuracy: 0.8237\n",
            "Epoch 144/150\n",
            "484/484 [==============================] - 4s 9ms/step - loss: 0.9487 - accuracy: 0.8252\n",
            "Epoch 145/150\n",
            "484/484 [==============================] - 5s 10ms/step - loss: 0.9544 - accuracy: 0.8227\n",
            "Epoch 146/150\n",
            "484/484 [==============================] - 5s 10ms/step - loss: 0.9385 - accuracy: 0.8265\n",
            "Epoch 147/150\n",
            "484/484 [==============================] - 5s 10ms/step - loss: 0.9436 - accuracy: 0.8263\n",
            "Epoch 148/150\n",
            "484/484 [==============================] - 4s 9ms/step - loss: 0.9460 - accuracy: 0.8228\n",
            "Epoch 149/150\n",
            "484/484 [==============================] - 4s 9ms/step - loss: 0.9308 - accuracy: 0.8283\n",
            "Epoch 150/150\n",
            "484/484 [==============================] - 5s 10ms/step - loss: 0.9403 - accuracy: 0.8256\n"
          ]
        }
      ],
      "source": [
        "# Get the untrained model\n",
        "model = create_model(total_words, max_sequence_len)\n",
        "\n",
        "# Train the model\n",
        "history = model.fit(features, labels, epochs=150, verbose=1)"
      ]
    },
    {
      "cell_type": "markdown",
      "metadata": {
        "id": "gy72RPgly55q"
      },
      "source": [
        "**To pass this assignment, your model should achieve a training accuracy of at least 80%**. If your model didn't achieve this threshold, try training again with a different model architecture, consider increasing the number of unit in your `LSTM` layer."
      ]
    },
    {
      "cell_type": "code",
      "execution_count": 58,
      "metadata": {
        "id": "1fXTEO3GJ282",
        "tags": [],
        "colab": {
          "base_uri": "https://localhost:8080/",
          "height": 887
        },
        "outputId": "438194b0-c831-499d-acda-4553a6f57d79"
      },
      "outputs": [
        {
          "output_type": "display_data",
          "data": {
            "text/plain": [
              "<Figure size 640x480 with 1 Axes>"
            ],
            "image/png": "[encoded data removed]"
          },
          "metadata": {}
        },
        {
          "output_type": "display_data",
          "data": {
            "text/plain": [
              "<Figure size 640x480 with 1 Axes>"
            ],
            "image/png": "[encoded data removed]"
          },
          "metadata": {}
        }
      ],
      "source": [
        "# Take a look at the training curves of your model\n",
        "\n",
        "acc = history.history['accuracy']\n",
        "loss = history.history['loss']\n",
        "\n",
        "epochs = range(len(acc))\n",
        "\n",
        "plt.plot(epochs, acc, 'b', label='Training accuracy')\n",
        "plt.title('Training accuracy')\n",
        "\n",
        "plt.figure()\n",
        "\n",
        "plt.plot(epochs, loss, 'b', label='Training Loss')\n",
        "plt.title('Training loss')\n",
        "plt.legend()\n",
        "\n",
        "plt.show()"
      ]
    },
    {
      "cell_type": "markdown",
      "metadata": {
        "id": "OjvED5A3qrn2"
      },
      "source": [
        "Before closing the assignment, be sure to also download the `history.pkl` file which contains the information of the training history of your model and will be used to compute your grade. You can download this file by running the cell below:"
      ]
    },
    {
      "cell_type": "code",
      "execution_count": 59,
      "metadata": {
        "id": "9QRG73l6qE-c",
        "tags": [],
        "colab": {
          "base_uri": "https://localhost:8080/",
          "height": 17
        },
        "outputId": "189be92c-b638-49bf-f8fa-09d8ab16f1c6"
      },
      "outputs": [
        {
          "output_type": "display_data",
          "data": {
            "text/plain": [
              "<IPython.core.display.Javascript object>"
            ],
            "application/javascript": [
              "\n",
              "    async function download(id, filename, size) {\n",
              "      if (!google.colab.kernel.accessAllowed) {\n",
              "        return;\n",
              "      }\n",
              "      const div = document.createElement('div');\n",
              "      const label = document.createElement('label');\n",
              "      label.textContent = `Downloading \"${filename}\": `;\n",
              "      div.appendChild(label);\n",
              "      const progress = document.createElement('progress');\n",
              "      progress.max = size;\n",
              "      div.appendChild(progress);\n",
              "      document.body.appendChild(div);\n",
              "\n",
              "      const buffers = [];\n",
              "      let downloaded = 0;\n",
              "\n",
              "      const channel = await google.colab.kernel.comms.open(id);\n",
              "      // Send a message to notify the kernel that we're ready.\n",
              "      channel.send({})\n",
              "\n",
              "      for await (const message of channel.messages) {\n",
              "        // Send a message to notify the kernel that we're ready.\n",
              "        channel.send({})\n",
              "        if (message.buffers) {\n",
              "          for (const buffer of message.buffers) {\n",
              "            buffers.push(buffer);\n",
              "            downloaded += buffer.byteLength;\n",
              "            progress.value = downloaded;\n",
              "          }\n",
              "        }\n",
              "      }\n",
              "      const blob = new Blob(buffers, {type: 'application/binary'});\n",
              "      const a = document.createElement('a');\n",
              "      a.href = window.URL.createObjectURL(blob);\n",
              "      a.download = filename;\n",
              "      div.appendChild(a);\n",
              "      a.click();\n",
              "      div.remove();\n",
              "    }\n",
              "  "
            ]
          },
          "metadata": {}
        },
        {
          "output_type": "display_data",
          "data": {
            "text/plain": [
              "<IPython.core.display.Javascript object>"
            ],
            "application/javascript": [
              "download(\"download_d82b2209-fea7-4cea-98be-ca56817eb975\", \"history.pkl\", 2742)"
            ]
          },
          "metadata": {}
        }
      ],
      "source": [
        "def download_history():\n",
        "  import pickle\n",
        "  from google.colab import files\n",
        "\n",
        "  with open('history.pkl', 'wb') as f:\n",
        "    pickle.dump(history.history, f)\n",
        "\n",
        "  files.download('history.pkl')\n",
        "\n",
        "download_history()"
      ]
    },
    {
      "cell_type": "markdown",
      "metadata": {
        "id": "wdsMszk9zBs_"
      },
      "source": [
        "## See your model in action\n",
        "\n",
        "After all your work it is finally time to see your model generating text.\n",
        "\n",
        "Run the cell below to generate the next 100 words of a seed text.\n",
        "\n",
        "After submitting your assignment you are encouraged to try out training for different amounts of epochs and seeing how this affects the coherency of the generated text. Also try changing the seed text to see what you get!"
      ]
    },
    {
      "cell_type": "code",
      "execution_count": 60,
      "metadata": {
        "id": "6Vc6PHgxa6Hm",
        "tags": [],
        "colab": {
          "base_uri": "https://localhost:8080/"
        },
        "outputId": "58ce391f-9743-4779-ce3b-c431516b3c1f"
      },
      "outputs": [
        {
          "output_type": "stream",
          "name": "stdout",
          "text": [
            "Help me Obi Wan Kenobi, you're my only hope is telling show thee words good 'will ' live in day of mine own desert sight care with pleasure blood be self prone indigest refined pen rage age brings grow good part hate die thence near say bright mind bright days live cured words ' do not new bright so blind age fire mine eye alone shine thee such foes strive to thee hence strife about rolling state forth disgrace her bevel end dead minds on memory pride face aside shown survey doom thy granting state of thine deem'd rare shade remain remain another mind worth new shade back bright\n"
          ]
        }
      ],
      "source": [
        "seed_text = \"Help me Obi Wan Kenobi, you're my only hope\"\n",
        "next_words = 100\n",
        "\n",
        "for _ in range(next_words):\n",
        "    # Convert the text into sequences\n",
        "    token_list = tokenizer.texts_to_sequences([seed_text])[0]\n",
        "    # Pad the sequences\n",
        "    token_list = pad_sequences([token_list], maxlen=max_sequence_len-1, padding='pre')\n",
        "    # Get the probabilities of predicting a word\n",
        "    predicted = model.predict(token_list, verbose=0)\n",
        "    # Choose the next word based on the maximum probability\n",
        "    predicted = np.argmax(predicted, axis=-1).item()\n",
        "    # Get the actual word from the word index\n",
        "    output_word = tokenizer.index_word[predicted]\n",
        "    # Append to the current text\n",
        "    seed_text += \" \" + output_word\n",
        "\n",
        "print(seed_text)"
      ]
    },
    {
      "cell_type": "markdown",
      "metadata": {
        "id": "oQVDbdcYqSux"
      },
      "source": [
        "## Download your notebook for grading\n",
        "\n",
        "Along with the `history.pkl` file earlier, you will also need to submit your solution notebook for grading. The following code cells will check if this notebook's grader metadata (i.e. hidden data in the notebook needed for grading) is not modified by your workspace. This will ensure that the autograder can evaluate your code properly. Depending on its output, you will either:\n",
        "\n",
        "* *if the metadata is intact*: Download the current notebook. Click on the File tab on the upper left corner of the screen then click on `Download -> Download .ipynb.` You can name it anything you want as long as it is a valid `.ipynb` (jupyter notebook) file.\n",
        "<br>\n",
        "\n",
        "* *if the metadata is missing*: A new notebook with your solutions will be created on this Colab workspace. It should be downloaded automatically and you can submit that to the grader."
      ]
    },
    {
      "cell_type": "code",
      "execution_count": 61,
      "metadata": {
        "id": "ZUEiIXZEShHw",
        "colab": {
          "base_uri": "https://localhost:8080/"
        },
        "outputId": "5b1c6f2e-8018-4575-fe1b-c41df20b8a7f"
      },
      "outputs": [
        {
          "output_type": "stream",
          "name": "stdout",
          "text": [
            "--2023-08-17 20:30:36--  https://storage.googleapis.com/tensorflow-1-public/colab_metadata_checker.py\n",
            "Resolving storage.googleapis.com (storage.googleapis.com)... 142.250.107.128, 173.194.203.128, 74.125.199.128, ...\n",
            "Connecting to storage.googleapis.com (storage.googleapis.com)|142.250.107.128|:443... connected.\n",
            "HTTP request sent, awaiting response... 200 OK\n",
            "Length: 1997 (2.0K) [text/x-python-script]\n",
            "Saving to: ‘colab_metadata_checker.py’\n",
            "\n",
            "\r          colab_met   0%[                    ]       0  --.-KB/s               \rcolab_metadata_chec 100%[===================>]   1.95K  --.-KB/s    in 0s      \n",
            "\n",
            "2023-08-17 20:30:36 (48.4 MB/s) - ‘colab_metadata_checker.py’ saved [1997/1997]\n",
            "\n"
          ]
        }
      ],
      "source": [
        "# Download metadata checker\n",
        "!wget -nc https://storage.googleapis.com/tensorflow-1-public/colab_metadata_checker.py"
      ]
    },
    {
      "cell_type": "code",
      "execution_count": 62,
      "metadata": {
        "id": "Ek87UXX7Sj6b",
        "colab": {
          "base_uri": "https://localhost:8080/"
        },
        "outputId": "77c3c825-c339-490c-bbea-d5a0082afcc8"
      },
      "outputs": [
        {
          "output_type": "stream",
          "name": "stdout",
          "text": [
            "Grader metadata detected! You can download this notebook by clicking `File > Download > Download as .ipynb` and submit it to the grader!\n"
          ]
        }
      ],
      "source": [
        "import colab_metadata_checker\n",
        "\n",
        "# Please see the output of this cell to see which file you need to submit to the grader\n",
        "colab_metadata_checker.run('C3W4_Assignment_fixed.ipynb')"
      ]
    },
    {
      "cell_type": "markdown",
      "metadata": {
        "id": "d8r7-87s59Ng"
      },
      "source": [
        "**Please disregard the following note if the notebook metadata is detected**\n",
        "\n",
        "_Note: Just in case the automatic download fails when the metadata is missing, you can also do these steps:_\n",
        "* _Click the Folder icon on the left side of this screen to open the File Manager._\n",
        "* _Click the Folder Refresh icon in the File Manager to see the latest files in the workspace. You should see a file ending with a `_fixed.ipynb`._\n",
        "* _Right-click on that file to save locally and submit it to the grader._"
      ]
    },
    {
      "cell_type": "markdown",
      "metadata": {
        "id": "6r-X-HXtSc8N"
      },
      "source": [
        "**Congratulations on finishing this week's assignment!**\n",
        "\n",
        "You have successfully implemented a neural network capable of predicting the next word in a sequence of text!\n",
        "\n",
        "**We hope to see you in the next course of the specialization! Keep it up!**"
      ]
    }
  ],
  "metadata": {
    "accelerator": "GPU",
    "colab": {
      "provenance": []
    },
    "dlai_version": "1.2.0",
    "jupytext": {
      "main_language": "python"
    },
    "kernelspec": {
      "display_name": "Python 3",
      "language": "python",
      "name": "python3"
    },
    "language_info": {
      "codemirror_mode": {
        "name": "ipython",
        "version": 3
      },
      "file_extension": ".py",
      "mimetype": "text/x-python",
      "name": "python",
      "nbconvert_exporter": "python",
      "pygments_lexer": "ipython3",
      "version": "3.7.4"
    }
  },
  "nbformat": 4,
  "nbformat_minor": 0
}